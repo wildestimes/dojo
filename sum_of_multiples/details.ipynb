{
 "cells": [
  {
   "cell_type": "markdown",
   "id": "9a60170a-1338-45ce-9431-6c7d34c55353",
   "metadata": {},
   "source": [
    "# sum of multiples\n",
    "> https://www.codewars.com/kata/57241e0f440cd279b5000829\n",
    "\n",
    "## Details"
   ]
  },
  {
   "cell_type": "markdown",
   "id": "7cd10673-71d1-48b3-b7fe-5b74b90b0242",
   "metadata": {},
   "source": [
    "**Your Job**:  \n",
    "Find the sum of all multiples of `n` below `m`\n",
    "\n",
    "**Keep in Mind**:  \n",
    "`n` and `m` are natural numbers (positive integers)  \n",
    "`m` is excluded from the multiples\n",
    "\n",
    "**Examples**:\n",
    "```\n",
    "sumMul(2, 9)   ==> 2 + 4 + 6 + 8 = 20\n",
    "sumMul(3, 13)  ==> 3 + 6 + 9 + 12 = 30\n",
    "sumMul(4, 123) ==> 4 + 8 + 12 + ... = 1860\n",
    "sumMul(4, -7)  ==> \"INVALID\"\n",
    "```\n",
    "\n",
    "--------"
   ]
  },
  {
   "cell_type": "markdown",
   "id": "df45cde7-da24-44d2-9a41-7e4fdbc1139e",
   "metadata": {},
   "source": [
    "### Discussion\n",
    "let's focus on one scenario to keep it simple.  \n",
    "we know from the problem statement above,  \n",
    "if: `n, m = 2, 9`  \n",
    "then the sum is: `2 + 4 + 6 + 8 = 20`\n",
    "\n",
    "let's get that in to code:"
   ]
  },
  {
   "cell_type": "code",
   "execution_count": 1,
   "id": "b52b4970-e0c6-4788-b933-9723c73b5d16",
   "metadata": {},
   "outputs": [
    {
     "name": "stdout",
     "output_type": "stream",
     "text": [
      "2 9 20\n"
     ]
    }
   ],
   "source": [
    "# define variables\n",
    "n, m = 2, 9\n",
    "correct_answer = 20\n",
    "\n",
    "# print\n",
    "print(n, m, correct_answer)"
   ]
  },
  {
   "cell_type": "markdown",
   "id": "27cd0e23-783a-4c61-8281-d45a2ff208a2",
   "metadata": {},
   "source": [
    "now considering these variables,  \n",
    "let's \"sketch out\" the function  \n",
    "with pseudo-code comments:"
   ]
  },
  {
   "cell_type": "code",
   "execution_count": null,
   "id": "d76df44c-6308-4103-a13b-17e531f893ff",
   "metadata": {},
   "outputs": [],
   "source": [
    "# define function\n",
    "\n",
    "def sum_mul(n, m):\n",
    "    \"\"\"sum_mul finds multiples of `n` that are below `m`\"\"\"\n",
    "\n",
    "    # validate input\n",
    "\n",
    "    # find multiples of n\n",
    "\n",
    "    # limit multiples below m\n"
   ]
  },
  {
   "cell_type": "markdown",
   "id": "a55e29b7",
   "metadata": {},
   "source": [
    "there, that oughtta get you started.\n",
    "search some things or ask your fave `chat` for some tips/pointers.\n",
    "\n",
    "once you are ready to test,\n",
    "run the cell below to test your function:"
   ]
  },
  {
   "cell_type": "code",
   "execution_count": null,
   "id": "6f55ec6d-a534-41c7-a0c1-29a5e27ba4ef",
   "metadata": {},
   "outputs": [],
   "source": [
    "# run it\n",
    "sum_mul(2, 9)"
   ]
  },
  {
   "cell_type": "markdown",
   "id": "cfb3ba83",
   "metadata": {},
   "source": [
    "(the answer should be 20)\n",
    "\n",
    "now go on to the tests notebook\n",
    "to [test](tests.ipynb) out your new function!"
   ]
  }
 ],
 "metadata": {
  "kernelspec": {
   "display_name": "Python 3.12.5 64-bit ('3.12.5')",
   "language": "python",
   "name": "python3"
  },
  "language_info": {
   "codemirror_mode": {
    "name": "ipython",
    "version": 3
   },
   "file_extension": ".py",
   "mimetype": "text/x-python",
   "name": "python",
   "nbconvert_exporter": "python",
   "pygments_lexer": "ipython3",
   "version": "3.12.5"
  },
  "vscode": {
   "interpreter": {
    "hash": "f5b6de4b07dce99605109d78699218479269c867b1bd9da0e3f52b33f74348d8"
   }
  }
 },
 "nbformat": 4,
 "nbformat_minor": 5
}
