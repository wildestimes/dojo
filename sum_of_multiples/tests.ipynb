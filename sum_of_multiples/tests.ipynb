{
 "cells": [
  {
   "cell_type": "markdown",
   "id": "9a60170a-1338-45ce-9431-6c7d34c55353",
   "metadata": {},
   "source": [
    "# sum of multiples\n",
    "> https://www.codewars.com/kata/57241e0f440cd279b5000829\n",
    "\n",
    "## tests\n",
    "Copy your function definition below  \n",
    "and run the tests for valdation."
   ]
  },
  {
   "cell_type": "code",
   "execution_count": 1,
   "id": "d76df44c-6308-4103-a13b-17e531f893ff",
   "metadata": {},
   "outputs": [],
   "source": [
    "# define function\n",
    "\n",
    "def sum_mul(n, m):\n",
    "    \"\"\"sum_mul finds multiples of `n` that are below `m`\"\"\"\n",
    "\n",
    "    # function definition goes here"
   ]
  },
  {
   "cell_type": "markdown",
   "id": "6d141b6d-650e-4a37-8f77-d0b8e16e668f",
   "metadata": {},
   "source": [
    "# Function Tests\n",
    "\n",
    "you can run the following tests to check  \n",
    "if your `sum_mul` function is working as expected."
   ]
  },
  {
   "cell_type": "code",
   "execution_count": null,
   "id": "7be2c687-df3b-4472-990a-b79cd1728947",
   "metadata": {},
   "outputs": [],
   "source": [
    "# test 1\n",
    "\n",
    "answer = sum_mul(2, 9)\n",
    "\n",
    "correct_answer = 20\n",
    "assert answer==correct_answer, f\"Nope, the answer we're looking for is: {correct_answer}\""
   ]
  },
  {
   "cell_type": "code",
   "execution_count": null,
   "id": "438b2fea-8f7a-440f-a993-530e0594f156",
   "metadata": {},
   "outputs": [],
   "source": [
    "# test 2\n",
    "\n",
    "n, m = 3, 13\n",
    "correct_answer = 30\n",
    "\n",
    "answer = sum_mul(2, 9)\n",
    "assert answer==correct_answer, f\"That's close, but the correct answer is: {correct_answer}\""
   ]
  },
  {
   "cell_type": "code",
   "execution_count": null,
   "id": "067acac5-e09f-4d2b-ba56-b8769779fb6f",
   "metadata": {},
   "outputs": [],
   "source": [
    "# test 3\n",
    "\n",
    "n, m = 4, 123\n",
    "correct_answer = 1860\n",
    "\n",
    "answer = sum_mul(n, m)\n",
    "assert answer==correct_answer, f\"Hmm, that's pretty close.  Here's what we got: {correct_answer}\""
   ]
  },
  {
   "cell_type": "code",
   "execution_count": null,
   "id": "f99a41a1-0174-4953-a38f-eb1eef5ca8d9",
   "metadata": {},
   "outputs": [],
   "source": [
    "# test 4\n",
    "\n",
    "n, m = 4, -7\n",
    "correct_answer = \"INVALID\"\n",
    "\n",
    "answer = sum_mul(n, m)\n",
    "assert answer==correct_answer, f\"We're kinda looking something like: {correct_answer}\""
   ]
  },
  {
   "cell_type": "markdown",
   "id": "619532dd-d299-4835-9a10-3b6dcdaa4d26",
   "metadata": {},
   "source": [
    "**Bonus**:  \n",
    "These tests are all the same structure  \n",
    "and could be refactored into a single function.\n",
    "\n",
    "Is there anyone out there  \n",
    "that will unify these tests?"
   ]
  }
 ],
 "metadata": {
  "kernelspec": {
   "display_name": "Python 3.12.5 64-bit ('3.12.5')",
   "language": "python",
   "name": "python3"
  },
  "language_info": {
   "codemirror_mode": {
    "name": "ipython",
    "version": 3
   },
   "file_extension": ".py",
   "mimetype": "text/x-python",
   "name": "python",
   "nbconvert_exporter": "python",
   "pygments_lexer": "ipython3",
   "version": "3.12.5"
  },
  "vscode": {
   "interpreter": {
    "hash": "f5b6de4b07dce99605109d78699218479269c867b1bd9da0e3f52b33f74348d8"
   }
  }
 },
 "nbformat": 4,
 "nbformat_minor": 5
}
