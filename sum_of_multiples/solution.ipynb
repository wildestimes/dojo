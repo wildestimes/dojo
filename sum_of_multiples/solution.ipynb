{
 "cells": [
  {
   "cell_type": "markdown",
   "metadata": {},
   "source": [
    "# sum of multiples\n",
    "> https://www.codewars.com/kata/57241e0f440cd279b5000829\n",
    "\n",
    "## Solution\n",
    "\n",
    "...coming soon"
   ]
  }
 ],
 "metadata": {
  "kernelspec": {
   "display_name": "Python 3.12.5 64-bit ('3.12.5')",
   "language": "python",
   "name": "python3"
  },
  "language_info": {
   "codemirror_mode": {
    "name": "ipython",
    "version": 3
   },
   "file_extension": ".py",
   "mimetype": "text/x-python",
   "name": "python",
   "nbconvert_exporter": "python",
   "pygments_lexer": "ipython3",
   "version": "3.12.5"
  },
  "orig_nbformat": 4,
  "vscode": {
   "interpreter": {
    "hash": "f5b6de4b07dce99605109d78699218479269c867b1bd9da0e3f52b33f74348d8"
   }
  }
 },
 "nbformat": 4,
 "nbformat_minor": 2
}
